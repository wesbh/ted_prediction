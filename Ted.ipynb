{
 "cells": [
  {
   "cell_type": "code",
   "execution_count": 1,
   "metadata": {},
   "outputs": [],
   "source": [
    "import pandas as pd\n",
    "from collections import Counter\n",
    "import numpy as np\n",
    "from matplotlib import pyplot\n",
    "import seaborn as sns\n",
    "import nltk\n",
    "from nltk.corpus import stopwords\n",
    "from nltk.sentiment.vader import SentimentIntensityAnalyzer\n",
    "from nltk.stem import PorterStemmer\n",
    "import re\n",
    "#nltk.download('vader_lexicon')\n",
    "\n",
    "import sklearn\n",
    "from sklearn.neural_network import MLPClassifier\n",
    "from sklearn.model_selection import GridSearchCV\n",
    "from sklearn.metrics import classification_report\n",
    "from xgboost import XGBClassifier"
   ]
  },
  {
   "cell_type": "code",
   "execution_count": 2,
   "metadata": {},
   "outputs": [],
   "source": [
    "transcripts = \"MSDS696/data/ted-talks/transcripts.csv\"\n",
    "main = \"MSDS696/data/ted-talks/ted_main.csv\""
   ]
  },
  {
   "cell_type": "code",
   "execution_count": 3,
   "metadata": {},
   "outputs": [],
   "source": [
    "class SourceData():\n",
    "    def __init__(self,transcripts_path, main_path):\n",
    "        self.t = transcripts_path\n",
    "        self.m = main_path\n",
    "        self.df_t = pd.read_csv(self.t)\n",
    "        self.df_m = pd.read_csv(self.m)\n",
    "        self.df = self._merge_frames()\n",
    "        \n",
    "    def _merge_frames(self):\n",
    "        df_t = self.df_t.copy()\n",
    "        df_t.drop_duplicates(inplace=True)\n",
    "        #join tables on 'url'\n",
    "        df = pd.merge(self.df_m,df_t,how='inner',on='url') \n",
    "        return df\n",
    "        "
   ]
  },
  {
   "cell_type": "code",
   "execution_count": 4,
   "metadata": {},
   "outputs": [],
   "source": [
    "source = SourceData(transcripts, main)"
   ]
  },
  {
   "cell_type": "code",
   "execution_count": 5,
   "metadata": {},
   "outputs": [],
   "source": [
    "df = source.df"
   ]
  },
  {
   "cell_type": "code",
   "execution_count": 6,
   "metadata": {},
   "outputs": [
    {
     "data": {
      "text/plain": [
       "(2464, 18)"
      ]
     },
     "execution_count": 6,
     "metadata": {},
     "output_type": "execute_result"
    }
   ],
   "source": [
    "df.shape"
   ]
  },
  {
   "cell_type": "code",
   "execution_count": 7,
   "metadata": {},
   "outputs": [],
   "source": [
    "class SentimentCalculator():\n",
    "    def __init__(self,df):\n",
    "        self.df = df\n",
    "        self._new_words_dict = {'unconvincing':'unconvinced',\n",
    "                                'ingenious':'brilliant',\n",
    "                                'persuasive':'convincing',\n",
    "                                'longwinded':'boring', \n",
    "                                'informative':'enlightening',\n",
    "                                'jaw-dropping':'astounding'\n",
    "                                }\n",
    "        self.talk_scores = self._get_all_talk_scores()\n",
    "    \n",
    "    def _str_to_dic_list(self,string_dic_list):\n",
    "        s = string_dic_list\n",
    "        d_list = eval(s)\n",
    "        return d_list \n",
    "    \n",
    "    def _words_not_in_vader_lexicon(self):\n",
    "        '''\n",
    "        assumes df has series called 'ratings' and within that\n",
    "        series is lists of dictionaries as strings\n",
    "\n",
    "        '''\n",
    "        df = self.df\n",
    "        def get_rating_name_set(dic_list):\n",
    "            rating_names = [d['name'].lower() for d in dic_list]\n",
    "            return list(set(rating_names))\n",
    "\n",
    "        def get_series_rating_name_set(rating_series):\n",
    "            rs = rating_series\n",
    "            names_all = []\n",
    "            for ratings_list in rs:\n",
    "                d_list = self._str_to_dic_list(ratings_list)\n",
    "                names = get_rating_name_set(d_list)\n",
    "                names_all.extend(names)\n",
    "            return list(set(names_all))\n",
    "\n",
    "        sid = SentimentIntensityAnalyzer()\n",
    "        names_list = get_series_rating_name_set(df['ratings'])\n",
    "        bad_names = [n for n in names_list if n not in sid.lexicon.keys()]\n",
    "        return bad_names\n",
    "    \n",
    "    def _get_talk_score(self, ratings_df):\n",
    "        df = self.df\n",
    "        new_words = self._new_words_dict\n",
    "        \n",
    "        sid = SentimentIntensityAnalyzer()\n",
    "\n",
    "        r_df = ratings_df\n",
    "        r_df['name'] = r_df['name'].str.lower()\n",
    "        r_df.replace({'name':new_words}, inplace=True)\n",
    "        r_df['base_sentiment_score'] = r_df['name'].map(sid.lexicon)\n",
    "        score = np.average(r_df['base_sentiment_score'], weights=r_df['count']) \n",
    "        return score\n",
    "    \n",
    "    def _get_all_talk_scores(self):\n",
    "        scores = []\n",
    "        for talk_ratings in self.df['ratings']:\n",
    "            talk = pd.DataFrame(self._str_to_dic_list(talk_ratings))\n",
    "            score = self._get_talk_score(talk)\n",
    "            scores.append(score)\n",
    "\n",
    "        return scores"
   ]
  },
  {
   "cell_type": "code",
   "execution_count": 8,
   "metadata": {},
   "outputs": [],
   "source": [
    "sent_calc = SentimentCalculator(df)"
   ]
  },
  {
   "cell_type": "code",
   "execution_count": 9,
   "metadata": {},
   "outputs": [],
   "source": [
    "df['sentiment_score'] = sent_calc.talk_scores"
   ]
  },
  {
   "cell_type": "code",
   "execution_count": null,
   "metadata": {},
   "outputs": [],
   "source": []
  },
  {
   "cell_type": "code",
   "execution_count": 10,
   "metadata": {},
   "outputs": [
    {
     "data": {
      "text/plain": [
       "<matplotlib.axes._subplots.AxesSubplot at 0x1a1cdf8198>"
      ]
     },
     "execution_count": 10,
     "metadata": {},
     "output_type": "execute_result"
    },
    {
     "data": {
      "image/png": "[encoded data removed]",
      "text/plain": [
       "<Figure size 432x288 with 1 Axes>"
      ]
     },
     "metadata": {
      "needs_background": "light"
     },
     "output_type": "display_data"
    }
   ],
   "source": [
    "sns.scatterplot(df['sentiment_score'], df['views'])"
   ]
  },
  {
   "cell_type": "code",
   "execution_count": 11,
   "metadata": {},
   "outputs": [
    {
     "data": {
      "text/plain": [
       "<matplotlib.axes._subplots.AxesSubplot at 0x1a1ce047f0>"
      ]
     },
     "execution_count": 11,
     "metadata": {},
     "output_type": "execute_result"
    },
    {
     "data": {
      "image/png": "[encoded data removed]",
      "text/plain": [
       "<Figure size 432x288 with 1 Axes>"
      ]
     },
     "metadata": {
      "needs_background": "light"
     },
     "output_type": "display_data"
    }
   ],
   "source": [
    "sns.distplot(df['sentiment_score'])"
   ]
  },
  {
   "cell_type": "code",
   "execution_count": 12,
   "metadata": {},
   "outputs": [
    {
     "data": {
      "text/plain": [
       "duration          -0.061776\n",
       "comments          -0.035991\n",
       "num_speaker        0.014938\n",
       "languages          0.061465\n",
       "views              0.122768\n",
       "published_date     0.249722\n",
       "film_date          0.258322\n",
       "sentiment_score    1.000000\n",
       "Name: sentiment_score, dtype: float64"
      ]
     },
     "execution_count": 12,
     "metadata": {},
     "output_type": "execute_result"
    }
   ],
   "source": [
    "df.corr()['sentiment_score'].sort_values()"
   ]
  },
  {
   "cell_type": "code",
   "execution_count": 13,
   "metadata": {},
   "outputs": [],
   "source": [
    "class Tags():\n",
    "    def __init__(self,df):\n",
    "        self.df = df.copy()\n",
    "        self.all_tags = self._get_tag_set()\n",
    "        self.all_tag_dummies = self._get_tag_dummies_df()\n",
    "        self.filterd_tag_dummies = self._filter_df_by_correlation()\n",
    "        \n",
    "    def _str_to_list(self, string_list):\n",
    "        s = string_list\n",
    "        e_list = eval(s)\n",
    "        return e_list\n",
    "    \n",
    "    def _get_tag_set(self):\n",
    "        tags_list = []\n",
    "        series = self.df['tags'].copy()\n",
    "        for tag_list in series:\n",
    "            lst = self._str_to_list(tag_list)\n",
    "            tags_list.extend(lst)\n",
    "        tag_set = set(tags_list)\n",
    "        return list(tag_set)\n",
    "    \n",
    "    def _get_tag_dummies_df(self):\n",
    "        s = self.df['tags'].apply(self._str_to_list)\n",
    "        tag_dummies_df = pd.get_dummies(s.apply(pd.Series).stack()).sum(level=0)\n",
    "        tag_dummies_df['sentiment_score'] = self.df['sentiment_score']\n",
    "        return tag_dummies_df\n",
    "    \n",
    "    def get_tag_score_correlation(self):\n",
    "        tag_corr= self.all_tag_dummies.corr()['sentiment_score'].sort_values(ascending = False)\n",
    "        tag_corr= tag_corr.drop(index='sentiment_score')\n",
    "        return tag_corr\n",
    "    \n",
    "    def _filter_df_by_correlation(self,min=-0.04,max=0.04):\n",
    "        tag_corr = self.get_tag_score_correlation()\n",
    "        tag_corr_filtered = tag_corr[(tag_corr>=max) | (tag_corr<=min)] \n",
    "        cols = list(tag_corr_filtered.index)\n",
    "        cols.append('sentiment_score')\n",
    "        filtered_df= self.all_tag_dummies[cols].copy()\n",
    "        return filtered_df"
   ]
  },
  {
   "cell_type": "code",
   "execution_count": 14,
   "metadata": {},
   "outputs": [],
   "source": [
    "# a4_dims = (30, 100)\n",
    "# fig, ax = pyplot.subplots(figsize=a4_dims)\n",
    "# cahart = sns.barplot(y = tag_corr_asc.index, x = tag_corr_asc)\n",
    "#pyplot.savefig('corr.pdf')\n",
    "#chart.set_xticklabels(rotation=45, labels = tag_corr.index)"
   ]
  },
  {
   "cell_type": "code",
   "execution_count": 15,
   "metadata": {},
   "outputs": [],
   "source": [
    "#sns.distplot(tag_corr_asc, bins = 15)"
   ]
  },
  {
   "cell_type": "code",
   "execution_count": 16,
   "metadata": {},
   "outputs": [],
   "source": [
    "# a4_dims = (20, 40)\n",
    "# fig, ax = pyplot.subplots(figsize=a4_dims)\n",
    "# cahart = sns.barplot(y = tag_corr_asc_filtered.index, x = tag_corr_asc_filtered)\n",
    "#pyplot.savefig('corr.pdf')\n",
    "#chart.set_xticklabels(rotation=45, labels = tag_corr.index)"
   ]
  },
  {
   "cell_type": "code",
   "execution_count": 114,
   "metadata": {},
   "outputs": [],
   "source": [
    "class Transcripts():\n",
    "    def __init__(self,df):\n",
    "        self.df = df\n",
    "        self.words1 = self._distill_text_to_words()\n",
    "        self._more_stops= self._get_stop_words_by_freq(self.words1)\n",
    "        self.words2 = self._distill_to_words_with_more_stops()\n",
    "        self.stems = self._get_stems()\n",
    "        self.all_stem_dummies = self._get_all_stem_dummies()\n",
    "        self.filtered_stem_dummies = self._get_filtered_dummies()\n",
    "        \n",
    "    def _distill_text_to_words(self, more_stop_words=[]):\n",
    "        stoplist = stopwords.words('english')\n",
    "        stoplist.extend(more_stop_words)\n",
    "        def distill(series):\n",
    "            text = series.split()\n",
    "            text = [s.lower() for s in text]\n",
    "            text = [s for s in text if '(' not in s]\n",
    "            text = [s.strip('?') for s in text]\n",
    "            text = [s for s in text if s.isalpha()]\n",
    "            text = list(set(text).difference(set(stoplist)))\n",
    "            return text\n",
    "        words = df['transcript'].map(distill)\n",
    "            \n",
    "        return words\n",
    "    \n",
    "    def _get_stop_words_by_freq(self,words_Series, min_count = 25,max_count=1000):\n",
    "        '''\n",
    "        returns stop words that are outside of min, max\n",
    "        '''\n",
    "        def get_all_word_counts(pandas_Series):\n",
    "            s = pandas_Series\n",
    "            combined = sum(s,[])\n",
    "            fdist = nltk.FreqDist(combined)\n",
    "            counts = fdist.most_common()\n",
    "            return counts\n",
    "        \n",
    "        def get_words_list(counts):\n",
    "            words = [c[0] for c in counts]\n",
    "            return words\n",
    "        \n",
    "        def slice_word_counts(counts, min_count, max_count):\n",
    "            sliced = [c[0] for c in counts if c[1]>=min_count and c[1]<=max_count]\n",
    "            #sliced = [c[0] for c in counts if c[1]<=max_count]\n",
    "            return sliced\n",
    "           \n",
    "        s = words_Series\n",
    "        counts = get_all_word_counts(s)\n",
    "        words = get_words_list(counts)\n",
    "        words_slice = slice_word_counts(counts,min_count,max_count)\n",
    "        stop_words = list(set(words).difference(set(words_slice)))\n",
    "        return stop_words\n",
    "    \n",
    "    def _distill_to_words_with_more_stops(self):\n",
    "        stops=self._more_stops\n",
    "        words= self._distill_text_to_words(stops)\n",
    "        return words\n",
    "\n",
    "    def _get_stems(self):\n",
    "        ps = PorterStemmer() \n",
    "        def get_stems_set(word_list):\n",
    "            wl = word_list\n",
    "            stems = [ps.stem(w) for w in wl]\n",
    "            stems_list_set = list(set(stems))\n",
    "            return stems_list_set\n",
    "        \n",
    "        stems = self.words2.map(get_stems_set)\n",
    "        return stems\n",
    "    \n",
    "    def _get_all_stem_dummies(self):\n",
    "        dummies = pd.get_dummies(self.stems.apply(pd.Series).stack()).sum(level=0)  \n",
    "        dummies = dummies.merge(df['sentiment_score'], left_index=True, right_index=True)\n",
    "        return dummies\n",
    "    \n",
    "    def _get_filtered_dummies(self, corr_inner_low = -.055,\n",
    "                                    corr_inner_high = 0.055):\n",
    "        dummies = self.all_stem_dummies\n",
    "        #filter low correlation stems (columns)\n",
    "        corr = dummies.corr()['sentiment_score'].sort_values(ascending = False)\n",
    "        corr = corr.drop(index='sentiment_score')\n",
    "        corr_filtered = corr[(corr>=corr_inner_high) | (corr<=corr_inner_low)] \n",
    "        cols = list(corr_filtered.index)\n",
    "        cols.append('sentiment_score')\n",
    "        dummies = dummies[cols].copy()\n",
    "        \n",
    "        return dummies"
   ]
  },
  {
   "cell_type": "code",
   "execution_count": 115,
   "metadata": {},
   "outputs": [],
   "source": [
    "class FinalCombinedData():\n",
    "    def __init__(self,df):\n",
    "        self.tags = Tags(df)\n",
    "        self.t = Transcripts(df)\n",
    "        self.dummies = self._combine_dummies()\n",
    "        \n",
    "    def _combine_dummies(self):\n",
    "        stem_dummies = self.t.filtered_stem_dummies.drop('sentiment_score', axis=1)\n",
    "        \n",
    "        A = set(list(stem_dummies.columns))\n",
    "        B = set(list(self.tags.filterd_tag_dummies.columns))\n",
    "        common = list(A.intersection(B))\n",
    "        \n",
    "        stem_dummies = stem_dummies.drop(columns = common, axis=1)\n",
    "        dummies = stem_dummies.merge(self.tags.filterd_tag_dummies, left_index=True, right_index=True)\n",
    "        dummies = dummies[(dummies['sentiment_score']>0) & (dummies['sentiment_score']<=2.5)].copy()\n",
    "        \n",
    "        return dummies"
   ]
  },
  {
   "cell_type": "code",
   "execution_count": null,
   "metadata": {},
   "outputs": [],
   "source": []
  },
  {
   "cell_type": "code",
   "execution_count": 116,
   "metadata": {},
   "outputs": [],
   "source": [
    "combo = FinalCombinedData(df)"
   ]
  },
  {
   "cell_type": "code",
   "execution_count": 117,
   "metadata": {},
   "outputs": [],
   "source": [
    "dummies = combo.dummies"
   ]
  },
  {
   "cell_type": "code",
   "execution_count": 118,
   "metadata": {},
   "outputs": [
    {
     "data": {
      "text/html": [
       "<div>\n",
       "<style scoped>\n",
       "    .dataframe tbody tr th:only-of-type {\n",
       "        vertical-align: middle;\n",
       "    }\n",
       "\n",
       "    .dataframe tbody tr th {\n",
       "        vertical-align: top;\n",
       "    }\n",
       "\n",
       "    .dataframe thead th {\n",
       "        text-align: right;\n",
       "    }\n",
       "</style>\n",
       "<table border=\"1\" class=\"dataframe\">\n",
       "  <thead>\n",
       "    <tr style=\"text-align: right;\">\n",
       "      <th></th>\n",
       "      <th>meter</th>\n",
       "      <th>dream</th>\n",
       "      <th>blood</th>\n",
       "      <th>lab</th>\n",
       "      <th>eye</th>\n",
       "      <th>patient</th>\n",
       "      <th>tissu</th>\n",
       "      <th>bodi</th>\n",
       "      <th>biologist</th>\n",
       "      <th>insect</th>\n",
       "      <th>...</th>\n",
       "      <th>cars</th>\n",
       "      <th>cities</th>\n",
       "      <th>philosophy</th>\n",
       "      <th>religion</th>\n",
       "      <th>economics</th>\n",
       "      <th>business</th>\n",
       "      <th>politics</th>\n",
       "      <th>culture</th>\n",
       "      <th>global issues</th>\n",
       "      <th>sentiment_score</th>\n",
       "    </tr>\n",
       "  </thead>\n",
       "  <tbody>\n",
       "    <tr>\n",
       "      <th>0</th>\n",
       "      <td>0</td>\n",
       "      <td>0</td>\n",
       "      <td>1</td>\n",
       "      <td>0</td>\n",
       "      <td>0</td>\n",
       "      <td>0</td>\n",
       "      <td>0</td>\n",
       "      <td>1</td>\n",
       "      <td>0</td>\n",
       "      <td>1</td>\n",
       "      <td>...</td>\n",
       "      <td>0</td>\n",
       "      <td>0</td>\n",
       "      <td>0</td>\n",
       "      <td>0</td>\n",
       "      <td>0</td>\n",
       "      <td>0</td>\n",
       "      <td>0</td>\n",
       "      <td>1</td>\n",
       "      <td>0</td>\n",
       "      <td>2.020109</td>\n",
       "    </tr>\n",
       "    <tr>\n",
       "      <th>1</th>\n",
       "      <td>0</td>\n",
       "      <td>0</td>\n",
       "      <td>0</td>\n",
       "      <td>0</td>\n",
       "      <td>0</td>\n",
       "      <td>0</td>\n",
       "      <td>0</td>\n",
       "      <td>0</td>\n",
       "      <td>0</td>\n",
       "      <td>0</td>\n",
       "      <td>...</td>\n",
       "      <td>1</td>\n",
       "      <td>0</td>\n",
       "      <td>0</td>\n",
       "      <td>0</td>\n",
       "      <td>0</td>\n",
       "      <td>0</td>\n",
       "      <td>0</td>\n",
       "      <td>1</td>\n",
       "      <td>1</td>\n",
       "      <td>1.299387</td>\n",
       "    </tr>\n",
       "    <tr>\n",
       "      <th>2</th>\n",
       "      <td>0</td>\n",
       "      <td>1</td>\n",
       "      <td>1</td>\n",
       "      <td>0</td>\n",
       "      <td>0</td>\n",
       "      <td>0</td>\n",
       "      <td>0</td>\n",
       "      <td>0</td>\n",
       "      <td>0</td>\n",
       "      <td>0</td>\n",
       "      <td>...</td>\n",
       "      <td>0</td>\n",
       "      <td>0</td>\n",
       "      <td>0</td>\n",
       "      <td>0</td>\n",
       "      <td>0</td>\n",
       "      <td>0</td>\n",
       "      <td>0</td>\n",
       "      <td>0</td>\n",
       "      <td>0</td>\n",
       "      <td>1.576062</td>\n",
       "    </tr>\n",
       "    <tr>\n",
       "      <th>3</th>\n",
       "      <td>0</td>\n",
       "      <td>0</td>\n",
       "      <td>0</td>\n",
       "      <td>0</td>\n",
       "      <td>0</td>\n",
       "      <td>0</td>\n",
       "      <td>0</td>\n",
       "      <td>0</td>\n",
       "      <td>0</td>\n",
       "      <td>0</td>\n",
       "      <td>...</td>\n",
       "      <td>0</td>\n",
       "      <td>1</td>\n",
       "      <td>0</td>\n",
       "      <td>0</td>\n",
       "      <td>0</td>\n",
       "      <td>1</td>\n",
       "      <td>1</td>\n",
       "      <td>0</td>\n",
       "      <td>0</td>\n",
       "      <td>1.951905</td>\n",
       "    </tr>\n",
       "    <tr>\n",
       "      <th>4</th>\n",
       "      <td>0</td>\n",
       "      <td>0</td>\n",
       "      <td>0</td>\n",
       "      <td>0</td>\n",
       "      <td>0</td>\n",
       "      <td>0</td>\n",
       "      <td>0</td>\n",
       "      <td>0</td>\n",
       "      <td>0</td>\n",
       "      <td>0</td>\n",
       "      <td>...</td>\n",
       "      <td>0</td>\n",
       "      <td>0</td>\n",
       "      <td>0</td>\n",
       "      <td>0</td>\n",
       "      <td>1</td>\n",
       "      <td>0</td>\n",
       "      <td>0</td>\n",
       "      <td>0</td>\n",
       "      <td>1</td>\n",
       "      <td>2.155609</td>\n",
       "    </tr>\n",
       "    <tr>\n",
       "      <th>...</th>\n",
       "      <td>...</td>\n",
       "      <td>...</td>\n",
       "      <td>...</td>\n",
       "      <td>...</td>\n",
       "      <td>...</td>\n",
       "      <td>...</td>\n",
       "      <td>...</td>\n",
       "      <td>...</td>\n",
       "      <td>...</td>\n",
       "      <td>...</td>\n",
       "      <td>...</td>\n",
       "      <td>...</td>\n",
       "      <td>...</td>\n",
       "      <td>...</td>\n",
       "      <td>...</td>\n",
       "      <td>...</td>\n",
       "      <td>...</td>\n",
       "      <td>...</td>\n",
       "      <td>...</td>\n",
       "      <td>...</td>\n",
       "      <td>...</td>\n",
       "    </tr>\n",
       "    <tr>\n",
       "      <th>2459</th>\n",
       "      <td>0</td>\n",
       "      <td>0</td>\n",
       "      <td>0</td>\n",
       "      <td>0</td>\n",
       "      <td>1</td>\n",
       "      <td>0</td>\n",
       "      <td>0</td>\n",
       "      <td>0</td>\n",
       "      <td>0</td>\n",
       "      <td>0</td>\n",
       "      <td>...</td>\n",
       "      <td>0</td>\n",
       "      <td>0</td>\n",
       "      <td>0</td>\n",
       "      <td>0</td>\n",
       "      <td>0</td>\n",
       "      <td>0</td>\n",
       "      <td>0</td>\n",
       "      <td>0</td>\n",
       "      <td>0</td>\n",
       "      <td>1.904167</td>\n",
       "    </tr>\n",
       "    <tr>\n",
       "      <th>2460</th>\n",
       "      <td>0</td>\n",
       "      <td>0</td>\n",
       "      <td>0</td>\n",
       "      <td>0</td>\n",
       "      <td>0</td>\n",
       "      <td>0</td>\n",
       "      <td>0</td>\n",
       "      <td>0</td>\n",
       "      <td>0</td>\n",
       "      <td>0</td>\n",
       "      <td>...</td>\n",
       "      <td>0</td>\n",
       "      <td>0</td>\n",
       "      <td>0</td>\n",
       "      <td>0</td>\n",
       "      <td>0</td>\n",
       "      <td>0</td>\n",
       "      <td>0</td>\n",
       "      <td>0</td>\n",
       "      <td>0</td>\n",
       "      <td>2.085430</td>\n",
       "    </tr>\n",
       "    <tr>\n",
       "      <th>2461</th>\n",
       "      <td>0</td>\n",
       "      <td>0</td>\n",
       "      <td>0</td>\n",
       "      <td>0</td>\n",
       "      <td>0</td>\n",
       "      <td>0</td>\n",
       "      <td>1</td>\n",
       "      <td>1</td>\n",
       "      <td>0</td>\n",
       "      <td>1</td>\n",
       "      <td>...</td>\n",
       "      <td>0</td>\n",
       "      <td>0</td>\n",
       "      <td>0</td>\n",
       "      <td>0</td>\n",
       "      <td>0</td>\n",
       "      <td>0</td>\n",
       "      <td>0</td>\n",
       "      <td>0</td>\n",
       "      <td>0</td>\n",
       "      <td>2.159559</td>\n",
       "    </tr>\n",
       "    <tr>\n",
       "      <th>2462</th>\n",
       "      <td>0</td>\n",
       "      <td>0</td>\n",
       "      <td>0</td>\n",
       "      <td>0</td>\n",
       "      <td>0</td>\n",
       "      <td>0</td>\n",
       "      <td>0</td>\n",
       "      <td>0</td>\n",
       "      <td>0</td>\n",
       "      <td>0</td>\n",
       "      <td>...</td>\n",
       "      <td>0</td>\n",
       "      <td>0</td>\n",
       "      <td>0</td>\n",
       "      <td>0</td>\n",
       "      <td>0</td>\n",
       "      <td>0</td>\n",
       "      <td>1</td>\n",
       "      <td>0</td>\n",
       "      <td>0</td>\n",
       "      <td>2.017667</td>\n",
       "    </tr>\n",
       "    <tr>\n",
       "      <th>2463</th>\n",
       "      <td>0</td>\n",
       "      <td>1</td>\n",
       "      <td>0</td>\n",
       "      <td>0</td>\n",
       "      <td>0</td>\n",
       "      <td>0</td>\n",
       "      <td>0</td>\n",
       "      <td>0</td>\n",
       "      <td>0</td>\n",
       "      <td>0</td>\n",
       "      <td>...</td>\n",
       "      <td>0</td>\n",
       "      <td>1</td>\n",
       "      <td>0</td>\n",
       "      <td>0</td>\n",
       "      <td>0</td>\n",
       "      <td>0</td>\n",
       "      <td>0</td>\n",
       "      <td>0</td>\n",
       "      <td>0</td>\n",
       "      <td>1.210563</td>\n",
       "    </tr>\n",
       "  </tbody>\n",
       "</table>\n",
       "<p>2453 rows × 387 columns</p>\n",
       "</div>"
      ],
      "text/plain": [
       "      meter  dream  blood  lab  eye  patient  tissu  bodi  biologist  insect  \\\n",
       "0         0      0      1    0    0        0      0     1          0       1   \n",
       "1         0      0      0    0    0        0      0     0          0       0   \n",
       "2         0      1      1    0    0        0      0     0          0       0   \n",
       "3         0      0      0    0    0        0      0     0          0       0   \n",
       "4         0      0      0    0    0        0      0     0          0       0   \n",
       "...     ...    ...    ...  ...  ...      ...    ...   ...        ...     ...   \n",
       "2459      0      0      0    0    1        0      0     0          0       0   \n",
       "2460      0      0      0    0    0        0      0     0          0       0   \n",
       "2461      0      0      0    0    0        0      1     1          0       1   \n",
       "2462      0      0      0    0    0        0      0     0          0       0   \n",
       "2463      0      1      0    0    0        0      0     0          0       0   \n",
       "\n",
       "      ...  cars  cities  philosophy  religion  economics  business  politics  \\\n",
       "0     ...     0       0           0         0          0         0         0   \n",
       "1     ...     1       0           0         0          0         0         0   \n",
       "2     ...     0       0           0         0          0         0         0   \n",
       "3     ...     0       1           0         0          0         1         1   \n",
       "4     ...     0       0           0         0          1         0         0   \n",
       "...   ...   ...     ...         ...       ...        ...       ...       ...   \n",
       "2459  ...     0       0           0         0          0         0         0   \n",
       "2460  ...     0       0           0         0          0         0         0   \n",
       "2461  ...     0       0           0         0          0         0         0   \n",
       "2462  ...     0       0           0         0          0         0         1   \n",
       "2463  ...     0       1           0         0          0         0         0   \n",
       "\n",
       "      culture  global issues  sentiment_score  \n",
       "0           1              0         2.020109  \n",
       "1           1              1         1.299387  \n",
       "2           0              0         1.576062  \n",
       "3           0              0         1.951905  \n",
       "4           0              1         2.155609  \n",
       "...       ...            ...              ...  \n",
       "2459        0              0         1.904167  \n",
       "2460        0              0         2.085430  \n",
       "2461        0              0         2.159559  \n",
       "2462        0              0         2.017667  \n",
       "2463        0              0         1.210563  \n",
       "\n",
       "[2453 rows x 387 columns]"
      ]
     },
     "execution_count": 118,
     "metadata": {},
     "output_type": "execute_result"
    }
   ],
   "source": [
    "dummies"
   ]
  },
  {
   "cell_type": "code",
   "execution_count": 119,
   "metadata": {},
   "outputs": [],
   "source": [
    "dummies['label'] = pd.cut(dummies['sentiment_score'],[0,1.8,2.1,2.5],labels=['C','B','A'])"
   ]
  },
  {
   "cell_type": "code",
   "execution_count": 120,
   "metadata": {},
   "outputs": [
    {
     "data": {
      "text/plain": [
       "Counter({'B': 1190, 'C': 676, 'A': 587})"
      ]
     },
     "execution_count": 120,
     "metadata": {},
     "output_type": "execute_result"
    }
   ],
   "source": [
    "Counter(dummies['label'])"
   ]
  },
  {
   "cell_type": "code",
   "execution_count": 121,
   "metadata": {},
   "outputs": [
    {
     "data": {
      "text/plain": [
       "(2453, 388)"
      ]
     },
     "execution_count": 121,
     "metadata": {},
     "output_type": "execute_result"
    }
   ],
   "source": [
    "dummies.shape"
   ]
  },
  {
   "cell_type": "code",
   "execution_count": 122,
   "metadata": {},
   "outputs": [],
   "source": [
    "dummies = dummies[~dummies['label'].isna()]"
   ]
  },
  {
   "cell_type": "code",
   "execution_count": 123,
   "metadata": {},
   "outputs": [
    {
     "data": {
      "text/plain": [
       "(2453, 388)"
      ]
     },
     "execution_count": 123,
     "metadata": {},
     "output_type": "execute_result"
    }
   ],
   "source": [
    "dummies.shape"
   ]
  },
  {
   "cell_type": "code",
   "execution_count": 124,
   "metadata": {},
   "outputs": [],
   "source": [
    "dummies_df = dummies.drop(['sentiment_score'], axis=1)\n",
    "X = dummies_df.drop(['label'], axis=1)\n",
    "y = dummies_df['label']"
   ]
  },
  {
   "cell_type": "code",
   "execution_count": 125,
   "metadata": {},
   "outputs": [],
   "source": [
    "X_train, X_test, y_train, y_test = sklearn.model_selection.train_test_split(X,y,test_size = 0.1,random_state=100)"
   ]
  },
  {
   "cell_type": "markdown",
   "metadata": {},
   "source": [
    "# Classifiers"
   ]
  },
  {
   "cell_type": "markdown",
   "metadata": {},
   "source": [
    "## Neural Net"
   ]
  },
  {
   "cell_type": "code",
   "execution_count": 178,
   "metadata": {},
   "outputs": [],
   "source": [
    "mlp = MLPClassifier(max_iter=10000)"
   ]
  },
  {
   "cell_type": "code",
   "execution_count": 179,
   "metadata": {},
   "outputs": [],
   "source": [
    "nn_parameter_space = {\n",
    "    'hidden_layer_sizes': [(300,200,100,50,10)], \n",
    "    'activation': ['relu'], \n",
    "    'solver': ['adam','lbfgs'], \n",
    "    'alpha': [0.001,0.0001],\n",
    "    }"
   ]
  },
  {
   "cell_type": "code",
   "execution_count": 180,
   "metadata": {},
   "outputs": [
    {
     "name": "stdout",
     "output_type": "stream",
     "text": [
      "Fitting 3 folds for each of 4 candidates, totalling 12 fits\n"
     ]
    },
    {
     "name": "stderr",
     "output_type": "stream",
     "text": [
      "[Parallel(n_jobs=-1)]: Using backend LokyBackend with 4 concurrent workers.\n",
      "[Parallel(n_jobs=-1)]: Done   5 tasks      | elapsed:   16.8s\n",
      "[Parallel(n_jobs=-1)]: Done   7 out of  12 | elapsed:   17.3s remaining:   12.3s\n",
      "[Parallel(n_jobs=-1)]: Done   9 out of  12 | elapsed:   22.6s remaining:    7.5s\n",
      "[Parallel(n_jobs=-1)]: Done  12 out of  12 | elapsed:   52.7s finished\n"
     ]
    },
    {
     "data": {
      "text/plain": [
       "GridSearchCV(cv=3, error_score=nan,\n",
       "             estimator=MLPClassifier(activation='relu', alpha=0.0001,\n",
       "                                     batch_size='auto', beta_1=0.9,\n",
       "                                     beta_2=0.999, early_stopping=False,\n",
       "                                     epsilon=1e-08, hidden_layer_sizes=(100,),\n",
       "                                     learning_rate='constant',\n",
       "                                     learning_rate_init=0.001, max_fun=15000,\n",
       "                                     max_iter=10000, momentum=0.9,\n",
       "                                     n_iter_no_change=10,\n",
       "                                     nesterovs_momentum=True, power_t=0.5,\n",
       "                                     random_state=None, shuffle=True,\n",
       "                                     solver='adam', tol=0.0001,\n",
       "                                     validation_fraction=0.1, verbose=False,\n",
       "                                     warm_start=False),\n",
       "             iid='deprecated', n_jobs=-1,\n",
       "             param_grid={'activation': ['relu'], 'alpha': [0.001, 0.0001],\n",
       "                         'hidden_layer_sizes': [(300, 200, 100, 50, 10)],\n",
       "                         'solver': ['adam', 'lbfgs']},\n",
       "             pre_dispatch='2*n_jobs', refit=True, return_train_score=False,\n",
       "             scoring=None, verbose=10)"
      ]
     },
     "execution_count": 180,
     "metadata": {},
     "output_type": "execute_result"
    }
   ],
   "source": [
    "clf = GridSearchCV(mlp, nn_parameter_space, n_jobs=-1, cv=3, verbose=10)\n",
    "clf.fit(X_train, y_train)"
   ]
  },
  {
   "cell_type": "code",
   "execution_count": 181,
   "metadata": {},
   "outputs": [
    {
     "data": {
      "text/plain": [
       "MLPClassifier(activation='relu', alpha=0.0001, batch_size='auto', beta_1=0.9,\n",
       "              beta_2=0.999, early_stopping=False, epsilon=1e-08,\n",
       "              hidden_layer_sizes=(300, 200, 100, 50, 10),\n",
       "              learning_rate='constant', learning_rate_init=0.001, max_fun=15000,\n",
       "              max_iter=10000, momentum=0.9, n_iter_no_change=10,\n",
       "              nesterovs_momentum=True, power_t=0.5, random_state=None,\n",
       "              shuffle=True, solver='adam', tol=0.0001, validation_fraction=0.1,\n",
       "              verbose=False, warm_start=False)"
      ]
     },
     "execution_count": 181,
     "metadata": {},
     "output_type": "execute_result"
    }
   ],
   "source": [
    "clf.best_estimator_"
   ]
  },
  {
   "cell_type": "code",
   "execution_count": 182,
   "metadata": {},
   "outputs": [
    {
     "name": "stdout",
     "output_type": "stream",
     "text": [
      "Neural Net Results on the test set:\n",
      "              precision    recall  f1-score   support\n",
      "\n",
      "           A       0.54      0.45      0.49        56\n",
      "           B       0.53      0.58      0.55       125\n",
      "           C       0.44      0.43      0.43        65\n",
      "\n",
      "    accuracy                           0.51       246\n",
      "   macro avg       0.50      0.48      0.49       246\n",
      "weighted avg       0.51      0.51      0.51       246\n",
      "\n"
     ]
    }
   ],
   "source": [
    "y_pred = clf.predict(X_test)\n",
    "print('Neural Net Results on the test set:')\n",
    "print(classification_report(y_test, y_pred))"
   ]
  },
  {
   "cell_type": "markdown",
   "metadata": {},
   "source": [
    "## XGBoost"
   ]
  },
  {
   "cell_type": "code",
   "execution_count": 183,
   "metadata": {},
   "outputs": [],
   "source": [
    "xgb_model = XGBClassifier()"
   ]
  },
  {
   "cell_type": "code",
   "execution_count": 184,
   "metadata": {},
   "outputs": [],
   "source": [
    "xgb_parameter_space = {\n",
    "    'learning_rate':[0.001,0.01,0.05],\n",
    "    'n_estimators':[100],\n",
    "    'max_depth':[2,3,6],\n",
    "    'objective':['multi:softmax'],\n",
    "    'num_class':[3] \n",
    "    }"
   ]
  },
  {
   "cell_type": "code",
   "execution_count": 185,
   "metadata": {},
   "outputs": [],
   "source": [
    "xgb_clf = GridSearchCV(xgb_model, xgb_parameter_space,n_jobs=-1, cv=3,verbose=2)"
   ]
  },
  {
   "cell_type": "code",
   "execution_count": 186,
   "metadata": {},
   "outputs": [
    {
     "name": "stdout",
     "output_type": "stream",
     "text": [
      "Fitting 3 folds for each of 9 candidates, totalling 27 fits\n"
     ]
    },
    {
     "name": "stderr",
     "output_type": "stream",
     "text": [
      "[Parallel(n_jobs=-1)]: Using backend LokyBackend with 4 concurrent workers.\n",
      "[Parallel(n_jobs=-1)]: Done  27 out of  27 | elapsed:  2.0min finished\n"
     ]
    },
    {
     "data": {
      "text/plain": [
       "GridSearchCV(cv=3, error_score=nan,\n",
       "             estimator=XGBClassifier(base_score=0.5, booster='gbtree',\n",
       "                                     colsample_bylevel=1, colsample_bynode=1,\n",
       "                                     colsample_bytree=1, gamma=0,\n",
       "                                     learning_rate=0.1, max_delta_step=0,\n",
       "                                     max_depth=3, min_child_weight=1,\n",
       "                                     missing=None, n_estimators=100, n_jobs=1,\n",
       "                                     nthread=None, objective='binary:logistic',\n",
       "                                     random_state=0, reg_alpha=0, reg_lambda=1,\n",
       "                                     scale_pos_weight=1, seed=None, silent=None,\n",
       "                                     subsample=1, verbosity=1),\n",
       "             iid='deprecated', n_jobs=-1,\n",
       "             param_grid={'learning_rate': [0.001, 0.01, 0.05],\n",
       "                         'max_depth': [2, 3, 6], 'n_estimators': [100],\n",
       "                         'num_class': [3], 'objective': ['multi:softmax']},\n",
       "             pre_dispatch='2*n_jobs', refit=True, return_train_score=False,\n",
       "             scoring=None, verbose=2)"
      ]
     },
     "execution_count": 186,
     "metadata": {},
     "output_type": "execute_result"
    }
   ],
   "source": [
    "xgb_clf.fit(X_train,y_train)"
   ]
  },
  {
   "cell_type": "code",
   "execution_count": 187,
   "metadata": {},
   "outputs": [
    {
     "data": {
      "text/plain": [
       "XGBClassifier(base_score=0.5, booster='gbtree', colsample_bylevel=1,\n",
       "              colsample_bynode=1, colsample_bytree=1, gamma=0,\n",
       "              learning_rate=0.05, max_delta_step=0, max_depth=6,\n",
       "              min_child_weight=1, missing=None, n_estimators=100, n_jobs=1,\n",
       "              nthread=None, num_class=3, objective='multi:softprob',\n",
       "              random_state=0, reg_alpha=0, reg_lambda=1, scale_pos_weight=1,\n",
       "              seed=None, silent=None, subsample=1, verbosity=1)"
      ]
     },
     "execution_count": 187,
     "metadata": {},
     "output_type": "execute_result"
    }
   ],
   "source": [
    "xgb_clf.best_estimator_"
   ]
  },
  {
   "cell_type": "code",
   "execution_count": 188,
   "metadata": {},
   "outputs": [],
   "source": [
    "y_pred = xgb_clf.predict(X_test)"
   ]
  },
  {
   "cell_type": "code",
   "execution_count": 189,
   "metadata": {},
   "outputs": [
    {
     "name": "stdout",
     "output_type": "stream",
     "text": [
      "XGB Results on the test set:\n",
      "              precision    recall  f1-score   support\n",
      "\n",
      "           A       0.50      0.27      0.35        56\n",
      "           B       0.55      0.84      0.67       125\n",
      "           C       0.65      0.26      0.37        65\n",
      "\n",
      "    accuracy                           0.56       246\n",
      "   macro avg       0.57      0.46      0.46       246\n",
      "weighted avg       0.57      0.56      0.52       246\n",
      "\n"
     ]
    }
   ],
   "source": [
    "print('XGB Results on the test set:')\n",
    "print(classification_report(y_test, y_pred))"
   ]
  },
  {
   "cell_type": "markdown",
   "metadata": {},
   "source": [
    "# Chance"
   ]
  },
  {
   "cell_type": "code",
   "execution_count": 209,
   "metadata": {},
   "outputs": [],
   "source": [
    "def print_probability_of_guessing_label_by_chance(label_set):\n",
    "    c = Counter(label_set)\n",
    "    print('Test label Counts:')\n",
    "    print(c)\n",
    "    print('')\n",
    "    print('Probabilities of gussing by chance:')\n",
    "    for k in c.keys():\n",
    "        p = c[k]/len(y_test)\n",
    "        p=round(p,2)\n",
    "        print(''.join([k,': ',str(p)]))\n",
    "\n",
    "    \n"
   ]
  },
  {
   "cell_type": "code",
   "execution_count": 210,
   "metadata": {},
   "outputs": [
    {
     "name": "stdout",
     "output_type": "stream",
     "text": [
      "Test label Counts:\n",
      "Counter({'B': 125, 'C': 65, 'A': 56})\n",
      "\n",
      "Probabilities of gussing by chance:\n",
      "C: 0.26\n",
      "A: 0.23\n",
      "B: 0.51\n"
     ]
    }
   ],
   "source": [
    "print_probability_of_guessing_label_by_chance(y_test)"
   ]
  },
  {
   "cell_type": "code",
   "execution_count": null,
   "metadata": {},
   "outputs": [],
   "source": []
  }
 ],
 "metadata": {
  "kernelspec": {
   "display_name": "Python 3",
   "language": "python",
   "name": "python3"
  },
  "language_info": {
   "codemirror_mode": {
    "name": "ipython",
    "version": 3
   },
   "file_extension": ".py",
   "mimetype": "text/x-python",
   "name": "python",
   "nbconvert_exporter": "python",
   "pygments_lexer": "ipython3",
   "version": "3.6.10"
  }
 },
 "nbformat": 4,
 "nbformat_minor": 4
}
